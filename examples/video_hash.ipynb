{
 "cells": [
  {
   "cell_type": "code",
   "execution_count": 1,
   "metadata": {},
   "outputs": [],
   "source": [
    "#importing required modules\n",
    "\n",
    "from Katna.video import Video\n",
    "import timeit\n",
    "import pandas as pd \n",
    "import matplotlib.pyplot as plt\n",
    "import os\n",
    "import moviepy.editor\n",
    "from mp3hash import mp3hash\n",
    "from PIL import Image\n",
    "import imagehash\n",
    "import timeit\n",
    "import shutil"
   ]
  },
  {
   "cell_type": "code",
   "execution_count": 2,
   "metadata": {},
   "outputs": [],
   "source": [
    "def get_key_frames_from_video (path_to_video, no_of_frames):\n",
    "    video = Video()\n",
    "    images = video.extract_frames_as_images(no_of_frames = no_of_frames, file_path= path_to_video)\n",
    "    return images"
   ]
  },
  {
   "cell_type": "code",
   "execution_count": 3,
   "metadata": {},
   "outputs": [],
   "source": [
    "def write_images_into_folder (images, no_of_frames, path):\n",
    "    video = Video()\n",
    "    for i in range(no_of_frames):\n",
    "        video.save_frame_to_disk(images[i], file_path= path, file_name=\"image\"+str(i+1), file_ext=\".png\")"
   ]
  },
  {
   "cell_type": "code",
   "execution_count": 4,
   "metadata": {},
   "outputs": [],
   "source": [
    "def get_audio_from_video (path_to_video):\n",
    "    video = moviepy.editor.VideoFileClip(path_to_video)\n",
    "    return video.audio"
   ]
  },
  {
   "cell_type": "code",
   "execution_count": 5,
   "metadata": {},
   "outputs": [],
   "source": [
    "def write_audio_into_folder (audio, path):\n",
    "    audio.write_audiofile(path)"
   ]
  },
  {
   "cell_type": "code",
   "execution_count": 6,
   "metadata": {},
   "outputs": [],
   "source": [
    "def hash_image (path_to_image):\n",
    "    return str(imagehash.average_hash(Image.open(path_to_image)))"
   ]
  },
  {
   "cell_type": "code",
   "execution_count": 7,
   "metadata": {},
   "outputs": [],
   "source": [
    "def hash_audio (path_to_audio):\n",
    "    return mp3hash(path_to_audio)"
   ]
  },
  {
   "cell_type": "code",
   "execution_count": 8,
   "metadata": {},
   "outputs": [],
   "source": [
    "def create_folder_for_video (path):\n",
    "    os.makedirs(path)"
   ]
  },
  {
   "cell_type": "code",
   "execution_count": 9,
   "metadata": {},
   "outputs": [],
   "source": [
    "def remove_folder_for_video (path):\n",
    "    shutil.rmtree(path)"
   ]
  },
  {
   "cell_type": "code",
   "execution_count": 10,
   "metadata": {},
   "outputs": [],
   "source": [
    "def get_feature_hash_from_video (path_to_video):\n",
    "    feature_hashes = []\n",
    "    no_of_frames = 10\n",
    "    result_folder_path = './results'\n",
    "\n",
    "    create_folder_for_video(result_folder_path)\n",
    "    \n",
    "    key_frames = get_key_frames_from_video(path_to_video, no_of_frames)\n",
    "    write_images_into_folder(key_frames, no_of_frames, \"./results\")\n",
    "\n",
    "    audio = get_audio_from_video(path_to_video)\n",
    "    write_audio_into_folder(audio, \"./results/audio.mp3\")\n",
    "    \n",
    "    for i in range(no_of_frames):\n",
    "        feature_hashes.append(hash_image(result_folder_path +\"/image\"+str(i+1)+\".png\"))\n",
    "    \n",
    "    feature_hashes.append(hash_audio(result_folder_path+\"/audio.mp3\"))\n",
    "    \n",
    "    remove_folder_for_video (result_folder_path)\n",
    "    \n",
    "    return feature_hashes"
   ]
  },
  {
   "cell_type": "code",
   "execution_count": 11,
   "metadata": {},
   "outputs": [],
   "source": [
    "def change_to_be_hex(str):\n",
    "    return int(str,base=16)"
   ]
  },
  {
   "cell_type": "code",
   "execution_count": 12,
   "metadata": {},
   "outputs": [],
   "source": [
    "def xor_elements (array):\n",
    "    acc = 0\n",
    "    for i in range(len(array)):\n",
    "        acc = acc ^ change_to_be_hex(array[i])\n",
    "    return acc"
   ]
  },
  {
   "cell_type": "code",
   "execution_count": 13,
   "metadata": {},
   "outputs": [],
   "source": [
    "def compute_video_hash (path_to_video): \n",
    "    feature_hash = get_feature_hash_from_video(path_to_video) \n",
    "    return xor_elements(feature_hash)"
   ]
  },
  {
   "cell_type": "code",
   "execution_count": 14,
   "metadata": {},
   "outputs": [
    {
     "name": "stderr",
     "output_type": "stream",
     "text": [
      "chunk:   9%|▉         | 54/589 [00:00<00:01, 519.02it/s, now=None]"
     ]
    },
    {
     "name": "stdout",
     "output_type": "stream",
     "text": [
      "MoviePy - Writing audio in ./results/audio.mp3\n"
     ]
    },
    {
     "name": "stderr",
     "output_type": "stream",
     "text": [
      "                                                                   \r"
     ]
    },
    {
     "name": "stdout",
     "output_type": "stream",
     "text": [
      "MoviePy - Done.\n"
     ]
    }
   ],
   "source": [
    "video_hash = compute_video_hash(\"/Users/anushree/tattle/sample_videos/fruitseller.mp4\")"
   ]
  },
  {
   "cell_type": "code",
   "execution_count": 15,
   "metadata": {},
   "outputs": [
    {
     "name": "stdout",
     "output_type": "stream",
     "text": [
      "250013836255125180112101603617300621066554979593\n"
     ]
    }
   ],
   "source": [
    "print(video_hash)"
   ]
  },
  {
   "cell_type": "code",
   "execution_count": null,
   "metadata": {},
   "outputs": [],
   "source": []
  }
 ],
 "metadata": {
  "kernelspec": {
   "display_name": "Python 3",
   "language": "python",
   "name": "python3"
  },
  "language_info": {
   "codemirror_mode": {
    "name": "ipython",
    "version": 3
   },
   "file_extension": ".py",
   "mimetype": "text/x-python",
   "name": "python",
   "nbconvert_exporter": "python",
   "pygments_lexer": "ipython3",
   "version": "3.8.2"
  }
 },
 "nbformat": 4,
 "nbformat_minor": 4
}
