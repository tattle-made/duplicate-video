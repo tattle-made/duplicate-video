{
 "cells": [
  {
   "cell_type": "markdown",
   "metadata": {},
   "source": [
    "# Analysing the Katna library for video key frame extraction\n",
    "\n",
    "\n",
    "### Motivation\n",
    "Today we see a rampant proliferation of video content via various social media channels all over the world. Often the same videos are sent repeatedly with little to no change. Tattle receives a lot of the same videos very often which was causing us to unnecessarily store duplicate videos in our databases. To avoid this we seek to solve the problem by trying to find video duplicates, thus allowing us to reject videos which already exist in our system. \n",
    "\n",
    "An easy way to do this would be to simply find the hash of an entire video and check if the video exists by comparing it with other videos using a hash table. However, this method is computationally expensive and time consuming. We're\n",
    "aiming to detect duplicates in our database in real time and finding the hash of an entire video would not be efficient. \n",
    "\n",
    "Thus we concluded that a more efficient way of solving the problem would be to find the top 10 key frames of a video and find the hash of only those frames instead of hashing the video as a whole. Since a video has a lot of frames, many of them often implying the same information, it should prove to be useful to extract the top 10 most different frames from a video which properly summarise the video as a whole.   \n",
    "\n",
    "Instead of trying to reinvent the wheel and extract key frames on our own, we decided that we’d explore the different open source solutions already available to us online.  This led us to finding and exploring the [katna](https://katna.readthedocs.io/en/latest/) library for key frame extraction."
   ]
  },
  {
   "cell_type": "markdown",
   "metadata": {},
   "source": [
    "### What is Katna?  \n",
    "From the docs, “Katna automates the boring, error prone task of videos key/best frames extraction and manual time consuming task of image cropping.” For our use case, we will be using the video module provided by Katna. "
   ]
  },
  {
   "cell_type": "markdown",
   "metadata": {},
   "source": [
    "In this notebook we are trying to analyse how the library works for the purpose of video key frame extraction with videos of varying sizes and duration. We're also trying to check if the duration of extraction changes with a change in number of frames required. Performance will be analysed based on time taken to extract 15, 10 and 5 key frames each from 7 videos, ranging in a variety of sizes and durations."
   ]
  },
  {
   "cell_type": "code",
   "execution_count": 1,
   "metadata": {},
   "outputs": [],
   "source": [
    "#importing required modules\n",
    "\n",
    "from Katna.video import Video\n",
    "import timeit\n",
    "import pandas as pd \n",
    "import matplotlib.pyplot as plt\n",
    "import os"
   ]
  },
  {
   "cell_type": "code",
   "execution_count": 2,
   "metadata": {},
   "outputs": [],
   "source": [
    "# We will be analysing each video by generating 15, 10 and 5 keyframes each\n",
    "\n",
    "frame_counts = [15,10,5]"
   ]
  },
  {
   "cell_type": "code",
   "execution_count": 3,
   "metadata": {},
   "outputs": [],
   "source": [
    "LINE_SEPARATOR = \"__________________________________________________\""
   ]
  },
  {
   "cell_type": "code",
   "execution_count": 4,
   "metadata": {},
   "outputs": [],
   "source": [
    "# Creating a dataframe to store video duration, size and time taken for extracting 15, 10 and 5 frames from each video\n",
    "\n",
    "df = pd.DataFrame(columns=(\"Duration\", \"Size\", \"Time for 15 frames\", \"Time for 10 frames\", \"Time for 5 frames\"))"
   ]
  },
  {
   "cell_type": "code",
   "execution_count": 5,
   "metadata": {},
   "outputs": [],
   "source": [
    "# Function to create a new folder to store extracted key frames\n",
    "\n",
    "def create_folder_for_video (path):\n",
    "    os.makedirs(path)"
   ]
  },
  {
   "cell_type": "code",
   "execution_count": 6,
   "metadata": {},
   "outputs": [],
   "source": [
    "# Function to extract key frames from given video\n",
    "\n",
    "def get_key_frames_from_video (path_to_video, no_of_frames):\n",
    "    video = Video()\n",
    "    images = video.extract_frames_as_images(no_of_frames = no_of_frames, file_path= path_to_video)\n",
    "    return images"
   ]
  },
  {
   "cell_type": "code",
   "execution_count": 7,
   "metadata": {},
   "outputs": [],
   "source": [
    "# Function to write extracted key frames into disc\n",
    "\n",
    "def write_images_into_folder (images, no_of_frames, path):\n",
    "    video = Video()\n",
    "    for i in range(no_of_frames):\n",
    "        video.save_frame_to_disk(images[i], file_path= path, file_name=\"image\"+str(i+1), file_ext=\".png\")"
   ]
  },
  {
   "cell_type": "markdown",
   "metadata": {},
   "source": [
    "# Video 1 \n",
    "\n",
    "* Duration: 26 seconds\n",
    "* Size: 59,88,173 bytes (7 MB on disk)"
   ]
  },
  {
   "cell_type": "code",
   "execution_count": 8,
   "metadata": {},
   "outputs": [
    {
     "name": "stdout",
     "output_type": "stream",
     "text": [
      "Time taken to get 15 keyframes:  5.775605648999996\n",
      "__________________________________________________\n",
      "Time taken to get 10 keyframes:  5.759908961000001\n",
      "__________________________________________________\n",
      "Time taken to get 5 keyframes:  5.723369165000001\n",
      "__________________________________________________\n"
     ]
    }
   ],
   "source": [
    "# Extracting keyframes for video 1 and appending data to the dataframe\n",
    "\n",
    "data = {'Duration':26, 'Size':7}\n",
    "\n",
    "for i in range(len(frame_counts)):\n",
    "    start = timeit.default_timer()\n",
    "    images = get_key_frames_from_video (path_to_video= \"./sample_videos/video1.mp4\", no_of_frames = frame_counts[i],)\n",
    "    stop = timeit.default_timer()\n",
    "    print('Time taken to get',frame_counts[i],'keyframes: ', stop - start) \n",
    "    df_key = 'Time for ' + str(frame_counts[i]) + ' frames'\n",
    "    data[df_key] = stop - start\n",
    "    \n",
    "    # Make folder for saving frames\n",
    "    output_folder_video_image = './key_frames/video1/'+str(frame_counts[i])+'frames'\n",
    "    create_folder_for_video (output_folder_video_image)\n",
    "    \n",
    "    # Save all frames to disk\n",
    "    write_images_into_folder(images, frame_counts[i], output_folder_video_image)\n",
    "    \n",
    "    print(LINE_SEPARATOR)\n",
    "    \n",
    "df = df.append(data,ignore_index=True)"
   ]
  },
  {
   "cell_type": "markdown",
   "metadata": {},
   "source": [
    "# Video 2 \n",
    "\n",
    "* Duration: 57 seconds\n",
    "* Size: 30,95,424 bytes (3.1 MB on disk)"
   ]
  },
  {
   "cell_type": "code",
   "execution_count": 9,
   "metadata": {},
   "outputs": [
    {
     "name": "stdout",
     "output_type": "stream",
     "text": [
      "Time taken to get 15 keyframes:  5.976103183999996\n",
      "__________________________________________________\n",
      "Time taken to get 10 keyframes:  6.207723075000004\n",
      "__________________________________________________\n",
      "Time taken to get 5 keyframes:  5.854151630000004\n",
      "__________________________________________________\n"
     ]
    }
   ],
   "source": [
    "# Extracting keyframes for video 2 and appending data to the dataframe\n",
    "\n",
    "data = {'Duration':57, 'Size': 3.1}\n",
    "\n",
    "for i in range(len(frame_counts)):\n",
    "    start = timeit.default_timer()\n",
    "    images = get_key_frames_from_video (path_to_video= \"./sample_videos/video2.mp4\", no_of_frames = frame_counts[i],)\n",
    "    stop = timeit.default_timer()\n",
    "    print('Time taken to get',frame_counts[i],'keyframes: ', stop - start) \n",
    "    df_key = 'Time for ' + str(frame_counts[i]) + ' frames'\n",
    "    data[df_key] = stop - start\n",
    "    \n",
    "    # Make folder for saving frames\n",
    "    output_folder_video_image = './key_frames/video2/'+str(frame_counts[i])+'frames'\n",
    "    create_folder_for_video (output_folder_video_image)\n",
    "    \n",
    "    # Save all frames to disk\n",
    "    write_images_into_folder(images, frame_counts[i], output_folder_video_image)\n",
    "    \n",
    "    print(LINE_SEPARATOR)\n",
    "    \n",
    "df = df.append(data,ignore_index=True)"
   ]
  },
  {
   "cell_type": "markdown",
   "metadata": {},
   "source": [
    "# Video 3\n",
    "\n",
    "* Duration - 2min\n",
    "* Size - 57,92,806 bytes (5.8 MB on disk)"
   ]
  },
  {
   "cell_type": "code",
   "execution_count": 10,
   "metadata": {},
   "outputs": [
    {
     "name": "stdout",
     "output_type": "stream",
     "text": [
      "Time taken to get 15 keyframes:  6.031578558999996\n",
      "__________________________________________________\n",
      "Time taken to get 10 keyframes:  5.962990501999997\n",
      "__________________________________________________\n",
      "Time taken to get 5 keyframes:  6.083122627000009\n",
      "__________________________________________________\n"
     ]
    }
   ],
   "source": [
    "# Extracting keyframes for video 3 and appending data to the dataframe\n",
    "\n",
    "data = {'Duration':120, 'Size': 5.8}\n",
    "\n",
    "for i in range(len(frame_counts)):\n",
    "    start = timeit.default_timer()\n",
    "    images = get_key_frames_from_video (path_to_video= \"./sample_videos/video3.mp4\", no_of_frames = frame_counts[i],)\n",
    "    stop = timeit.default_timer()\n",
    "    print('Time taken to get',frame_counts[i],'keyframes: ', stop - start) \n",
    "    df_key = 'Time for ' + str(frame_counts[i]) + ' frames'\n",
    "    data[df_key] = stop - start\n",
    "    \n",
    "    # Make folder for saving frames\n",
    "    output_folder_video_image = './key_frames/video3/'+str(frame_counts[i])+'frames'\n",
    "    create_folder_for_video (output_folder_video_image)\n",
    "    \n",
    "    # Save all frames to disk\n",
    "    write_images_into_folder(images, frame_counts[i], output_folder_video_image)\n",
    "    \n",
    "    print(LINE_SEPARATOR)\n",
    "    \n",
    "df = df.append(data,ignore_index=True)"
   ]
  },
  {
   "cell_type": "markdown",
   "metadata": {},
   "source": [
    "# Video 4\n",
    "\n",
    "* Duration - 3min 47sec\n",
    "* Size - 2,05,54,291 bytes (21 MB on disk)"
   ]
  },
  {
   "cell_type": "code",
   "execution_count": 11,
   "metadata": {},
   "outputs": [
    {
     "name": "stdout",
     "output_type": "stream",
     "text": [
      "Time taken to get 15 keyframes:  15.411729436999991\n",
      "__________________________________________________\n",
      "Time taken to get 10 keyframes:  15.759997390999985\n",
      "__________________________________________________\n",
      "Time taken to get 5 keyframes:  15.799216072999997\n",
      "__________________________________________________\n"
     ]
    }
   ],
   "source": [
    "# Extracting keyframes for video 4 and appending data to the dataframe\n",
    "\n",
    "data = {'Duration':228, 'Size': 21}\n",
    "\n",
    "\n",
    "for i in range(len(frame_counts)):\n",
    "    start = timeit.default_timer()\n",
    "    images = get_key_frames_from_video (path_to_video= \"./sample_videos/video4.mp4\", no_of_frames = frame_counts[i],)\n",
    "    stop = timeit.default_timer()\n",
    "    print('Time taken to get',frame_counts[i],'keyframes: ', stop - start) \n",
    "    df_key = 'Time for ' + str(frame_counts[i]) + ' frames'\n",
    "    data[df_key] = stop - start\n",
    "    \n",
    "    # Make folder for saving frames\n",
    "    output_folder_video_image = './key_frames/video4/'+str(frame_counts[i])+'frames'\n",
    "    create_folder_for_video (output_folder_video_image)\n",
    "    \n",
    "    # Save all frames to disk\n",
    "    write_images_into_folder(images, frame_counts[i], output_folder_video_image)\n",
    "    \n",
    "    print(LINE_SEPARATOR)\n",
    "    \n",
    "df = df.append(data,ignore_index=True)"
   ]
  },
  {
   "cell_type": "markdown",
   "metadata": {},
   "source": [
    "# Video 5\n",
    "\n",
    "* Duration - 4min 51sec\n",
    "* Size - 1,61,58,835 bytes (16.8 MB on disk)"
   ]
  },
  {
   "cell_type": "code",
   "execution_count": 12,
   "metadata": {},
   "outputs": [
    {
     "name": "stdout",
     "output_type": "stream",
     "text": [
      "Time taken to get 15 keyframes:  17.708131932000015\n",
      "__________________________________________________\n",
      "Time taken to get 10 keyframes:  17.45245083399999\n",
      "__________________________________________________\n",
      "Time taken to get 5 keyframes:  18.988750718000006\n",
      "__________________________________________________\n"
     ]
    }
   ],
   "source": [
    "# Extracting keyframes for video 5 and appending data to the dataframe\n",
    "\n",
    "data = {'Duration':291, 'Size': 16.8}\n",
    "\n",
    "\n",
    "for i in range(len(frame_counts)):\n",
    "    start = timeit.default_timer()\n",
    "    images = get_key_frames_from_video (path_to_video= \"./sample_videos/video5.mp4\", no_of_frames = frame_counts[i],)\n",
    "    stop = timeit.default_timer()\n",
    "    print('Time taken to get',frame_counts[i],'keyframes: ', stop - start) \n",
    "    df_key = 'Time for ' + str(frame_counts[i]) + ' frames'\n",
    "    data[df_key] = stop - start\n",
    "    \n",
    "    # Make folder for saving frames\n",
    "    output_folder_video_image = './key_frames/video5/'+str(frame_counts[i])+'frames'\n",
    "    create_folder_for_video (output_folder_video_image)\n",
    "    \n",
    "    # Save all frames to disk\n",
    "    write_images_into_folder(images, frame_counts[i], output_folder_video_image)\n",
    "    \n",
    "    print(LINE_SEPARATOR)\n",
    "    \n",
    "df = df.append(data,ignore_index=True)"
   ]
  },
  {
   "cell_type": "markdown",
   "metadata": {},
   "source": [
    "# Video 6\n",
    "\n",
    "* Duration - 8min 14sec\n",
    "* Size - 4,53,46,631 bytes (46.4 MB on disk)"
   ]
  },
  {
   "cell_type": "code",
   "execution_count": 13,
   "metadata": {},
   "outputs": [
    {
     "name": "stdout",
     "output_type": "stream",
     "text": [
      "Time taken to get 15 keyframes:  31.933056661000023\n",
      "__________________________________________________\n",
      "Time taken to get 10 keyframes:  29.39609948200001\n",
      "__________________________________________________\n",
      "Time taken to get 5 keyframes:  27.849070656000038\n",
      "__________________________________________________\n"
     ]
    }
   ],
   "source": [
    "# Extracting keyframes for video 6 and appending data to the dataframe\n",
    "\n",
    "data = {'Duration':494, 'Size': 46.4}\n",
    "\n",
    "for i in range(len(frame_counts)):\n",
    "    start = timeit.default_timer()\n",
    "    images = get_key_frames_from_video (path_to_video= \"./sample_videos/video6.mp4\", no_of_frames = frame_counts[i],)\n",
    "    stop = timeit.default_timer()\n",
    "    print('Time taken to get',frame_counts[i],'keyframes: ', stop - start) \n",
    "    df_key = 'Time for ' + str(frame_counts[i]) + ' frames'\n",
    "    data[df_key] = stop - start\n",
    "    \n",
    "    # Make folder for saving frames\n",
    "    output_folder_video_image = './key_frames/video6/'+str(frame_counts[i])+'frames'\n",
    "    create_folder_for_video (output_folder_video_image)\n",
    "    \n",
    "    # Save all frames to disk\n",
    "    write_images_into_folder(images, frame_counts[i], output_folder_video_image)\n",
    "    \n",
    "    print(LINE_SEPARATOR)\n",
    "    \n",
    "df = df.append(data,ignore_index=True)"
   ]
  },
  {
   "cell_type": "markdown",
   "metadata": {},
   "source": [
    "# Video 7\n",
    "\n",
    "* Duration - 10min 50sec\n",
    "* Size - 5,15,84,587 bytes (52.4 MB on disk)"
   ]
  },
  {
   "cell_type": "code",
   "execution_count": 14,
   "metadata": {},
   "outputs": [
    {
     "name": "stdout",
     "output_type": "stream",
     "text": [
      "Time taken to get 15 keyframes:  43.98768595299998\n",
      "__________________________________________________\n",
      "Time taken to get 10 keyframes:  45.945469162999984\n",
      "__________________________________________________\n",
      "Time taken to get 5 keyframes:  47.709285102000024\n",
      "__________________________________________________\n"
     ]
    }
   ],
   "source": [
    "# Extracting keyframes for video 7 and appending data to the dataframe\n",
    "\n",
    "data = {'Duration':650, 'Size': 52.4}\n",
    "\n",
    "for i in range(len(frame_counts)):\n",
    "    start = timeit.default_timer()\n",
    "    images = get_key_frames_from_video (path_to_video= \"./sample_videos/video7.mp4\", no_of_frames = frame_counts[i],)\n",
    "    stop = timeit.default_timer()\n",
    "    print('Time taken to get',frame_counts[i],'keyframes: ', stop - start) \n",
    "    df_key = 'Time for ' + str(frame_counts[i]) + ' frames'\n",
    "    data[df_key] = stop - start\n",
    "    \n",
    "    # Make folder for saving frames\n",
    "    output_folder_video_image = './key_frames/video7/'+str(frame_counts[i])+'frames'\n",
    "    create_folder_for_video (output_folder_video_image)\n",
    "    \n",
    "    # Save all frames to disk\n",
    "    write_images_into_folder(images, frame_counts[i], output_folder_video_image)\n",
    "    \n",
    "    print(LINE_SEPARATOR)\n",
    "    \n",
    "df = df.append(data,ignore_index=True)"
   ]
  },
  {
   "cell_type": "markdown",
   "metadata": {},
   "source": [
    "# Result Analysis:  "
   ]
  },
  {
   "cell_type": "code",
   "execution_count": 15,
   "metadata": {},
   "outputs": [
    {
     "name": "stdout",
     "output_type": "stream",
     "text": [
      "__________________________________________________\n",
      "   Duration  Size  Time for 15 frames  Time for 10 frames  Time for 5 frames\n",
      "0      26.0   7.0            5.775606            5.759909           5.723369\n",
      "1      57.0   3.1            5.976103            6.207723           5.854152\n",
      "2     120.0   5.8            6.031579            5.962991           6.083123\n",
      "3     228.0  21.0           15.411729           15.759997          15.799216\n",
      "4     291.0  16.8           17.708132           17.452451          18.988751\n",
      "5     494.0  46.4           31.933057           29.396099          27.849071\n",
      "6     650.0  52.4           43.987686           45.945469          47.709285\n",
      "__________________________________________________\n"
     ]
    }
   ],
   "source": [
    "print(LINE_SEPARATOR)\n",
    "print (df)\n",
    "print(LINE_SEPARATOR)"
   ]
  },
  {
   "cell_type": "code",
   "execution_count": 16,
   "metadata": {},
   "outputs": [
    {
     "data": {
      "image/png": "[encoded data removed]",
      "text/plain": [
       "<Figure size 432x288 with 1 Axes>"
      ]
     },
     "metadata": {
      "needs_background": "light"
     },
     "output_type": "display_data"
    }
   ],
   "source": [
    "# plotting duration vs time\n",
    "\n",
    "plt.plot(df[\"Duration\"],df[\"Time for 15 frames\"])\n",
    "plt.plot(df[\"Duration\"],df[\"Time for 10 frames\"])\n",
    "plt.plot(df[\"Duration\"],df[\"Time for 5 frames\"])\n",
    "\n",
    "plt.legend(['Time for 15 frames', 'Time for 10 frames', 'Time for 5 frames'], loc='upper left')\n",
    "plt.xlabel('Duration (seconds)')\n",
    "plt.ylabel('Time taken (seconds)')\n",
    "plt.suptitle('Duration VS Time taken', fontsize=20)\n",
    "\n",
    "plt.show()"
   ]
  },
  {
   "cell_type": "code",
   "execution_count": 17,
   "metadata": {},
   "outputs": [
    {
     "data": {
      "image/png": "[encoded data removed]",
      "text/plain": [
       "<Figure size 432x288 with 1 Axes>"
      ]
     },
     "metadata": {
      "needs_background": "light"
     },
     "output_type": "display_data"
    }
   ],
   "source": [
    "# plotting size vs time\n",
    "\n",
    "plt.plot(df[\"Size\"],df[\"Time for 15 frames\"])\n",
    "plt.plot(df[\"Size\"],df[\"Time for 10 frames\"])\n",
    "plt.plot(df[\"Size\"],df[\"Time for 5 frames\"])\n",
    "\n",
    "plt.legend(['Time for 15 frames', 'Time for 10 frames', 'Time for 5 frames'], loc='upper left')\n",
    "plt.xlabel('Size (MB)')\n",
    "plt.ylabel('Time taken (seconds)')\n",
    "plt.suptitle('Size VS Time taken', fontsize=20)\n",
    "\n",
    "plt.show()"
   ]
  },
  {
   "cell_type": "markdown",
   "metadata": {},
   "source": [
    "### Results \n",
    "\n",
    "As we can see, the library performs fairly well with increase in size and duration of videos provided. There is not much difference between time taken to extract 5,10 or 15 frames from the same video. However, we did notice that running the notebook again gave timings with a difference of ± 4seconds, which could be costly depending on the size of your video and the speed at which you want to evaluate the kay frames. "
   ]
  },
  {
   "cell_type": "markdown",
   "metadata": {},
   "source": [
    "### What next?\n",
    "\n",
    "Using the extracted key frames we can effectively summarise a large video into its most descriptive and distinct frames. We can hash these and combine them with other features  (audio, metadata etc) to get a cumulative video hash, which we can use for our video deduplication solution. "
   ]
  },
  {
   "cell_type": "code",
   "execution_count": null,
   "metadata": {},
   "outputs": [],
   "source": []
  }
 ],
 "metadata": {
  "kernelspec": {
   "display_name": "Python 3",
   "language": "python",
   "name": "python3"
  },
  "language_info": {
   "codemirror_mode": {
    "name": "ipython",
    "version": 3
   },
   "file_extension": ".py",
   "mimetype": "text/x-python",
   "name": "python",
   "nbconvert_exporter": "python",
   "pygments_lexer": "ipython3",
   "version": "3.8.2"
  }
 },
 "nbformat": 4,
 "nbformat_minor": 4
}
