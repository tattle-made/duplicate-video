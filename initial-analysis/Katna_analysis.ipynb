{
 "cells": [
  {
   "cell_type": "code",
   "execution_count": 1,
   "metadata": {},
   "outputs": [],
   "source": [
    "#importing required modules\n",
    "\n",
    "from Katna.video import Video\n",
    "import timeit\n",
    "import pandas as pd \n",
    "import matplotlib.pyplot as plt\n",
    "import os"
   ]
  },
  {
   "cell_type": "code",
   "execution_count": 2,
   "metadata": {},
   "outputs": [],
   "source": [
    "#instantiating the video class\n",
    "\n",
    "vd = Video()"
   ]
  },
  {
   "cell_type": "code",
   "execution_count": 3,
   "metadata": {},
   "outputs": [],
   "source": [
    "# We will be analysing each video by generating 15, 10 and 5 keyframes each\n",
    "\n",
    "frame_counts = [15,10,5]"
   ]
  },
  {
   "cell_type": "code",
   "execution_count": 4,
   "metadata": {},
   "outputs": [],
   "source": [
    "# Creating a dataframe to store video duration, size and time taken for extracting 15, 10 and 5 frames from each video\n",
    "\n",
    "df = pd.DataFrame(columns=('Duration','Size','Time for 15','Time for 10','Time for 5'))"
   ]
  },
  {
   "cell_type": "markdown",
   "metadata": {},
   "source": [
    "# Video 1 \n",
    "\n",
    "* Duration: 26 seconds\n",
    "* Size: 59,88,173 bytes (7 MB on disk)"
   ]
  },
  {
   "cell_type": "code",
   "execution_count": 5,
   "metadata": {},
   "outputs": [
    {
     "name": "stdout",
     "output_type": "stream",
     "text": [
      "Time taken to get 15 keyframes:  5.593306912999999\n",
      "_______________________________________________________________________________________________________\n",
      "Time taken to get 10 keyframes:  4.482808451\n",
      "_______________________________________________________________________________________________________\n",
      "Time taken to get 5 keyframes:  4.305683577\n",
      "_______________________________________________________________________________________________________\n"
     ]
    }
   ],
   "source": [
    "# Extracting keyframes for video 1 and appending data to the dataframe\n",
    "\n",
    "data = {'Duration':26, 'Size':7}\n",
    "\n",
    "i = 0\n",
    "while (i<len(frame_counts)):\n",
    "    start = timeit.default_timer()\n",
    "    imgs = vd.extract_frames_as_images(no_of_frames = frame_counts[i], file_path= \"./sample_videos/video1.mp4\")\n",
    "    stop = timeit.default_timer()\n",
    "    print('Time taken to get',frame_counts[i],'keyframes: ', stop - start) \n",
    "    df_key = 'Time for ' + str(frame_counts[i])\n",
    "    data[df_key] = stop - start\n",
    "    \n",
    "    # Make folder for saving frames\n",
    "    output_folder_video_image = './key_frames/video1/'+str(frame_counts[i])+'frames'\n",
    "    os.makedirs(output_folder_video_image)\n",
    "    \n",
    "    # Save all frames to disk\n",
    "    for counter,img in enumerate(imgs):\n",
    "        vd.save_frame_to_disk(img, file_path=output_folder_video_image, file_name=\"test_\"+str(counter), file_ext=\".jpeg\")\n",
    "    \n",
    "    print(\"_______________________________________________________________________________________________________\")\n",
    "    i = i+1\n",
    "    \n",
    "df = df.append(data,ignore_index=True)"
   ]
  },
  {
   "cell_type": "markdown",
   "metadata": {},
   "source": [
    "# Video 2 \n",
    "\n",
    "* Duration: 57 seconds\n",
    "* Size: 30,95,424 bytes (3.1 MB on disk)"
   ]
  },
  {
   "cell_type": "code",
   "execution_count": 6,
   "metadata": {},
   "outputs": [
    {
     "name": "stdout",
     "output_type": "stream",
     "text": [
      "Time taken to get 15 keyframes:  4.305352217999996\n",
      "_______________________________________________________________________________________________________\n",
      "Time taken to get 10 keyframes:  3.302035228000001\n",
      "_______________________________________________________________________________________________________\n",
      "Time taken to get 5 keyframes:  3.424415964000005\n",
      "_______________________________________________________________________________________________________\n"
     ]
    }
   ],
   "source": [
    "# Extracting keyframes for video 2 and appending data to the dataframe\n",
    "\n",
    "data = {'Duration':57, 'Size': 3.1}\n",
    "\n",
    "\n",
    "i = 0\n",
    "while (i<len(frame_counts)):\n",
    "    start = timeit.default_timer()\n",
    "    imgs = vd.extract_frames_as_images(no_of_frames = frame_counts[i], file_path= \"./sample_videos/video2.mp4\")\n",
    "    stop = timeit.default_timer()\n",
    "    print('Time taken to get',frame_counts[i],'keyframes: ', stop - start) \n",
    "    df_key = 'Time for ' + str(frame_counts[i])\n",
    "    data[df_key] = stop - start\n",
    "    \n",
    "    # Make folder for saving frames\n",
    "    output_folder_video_image = './key_frames/video2/'+str(frame_counts[i])+'frames'\n",
    "    os.makedirs(output_folder_video_image)\n",
    "    \n",
    "    # Save all frames to disk\n",
    "    for counter,img in enumerate(imgs):\n",
    "        vd.save_frame_to_disk(img, file_path=output_folder_video_image, file_name=\"test_\"+str(counter), file_ext=\".jpeg\")\n",
    "        \n",
    "    print(\"_______________________________________________________________________________________________________\")\n",
    "    i = i+1\n",
    "    \n",
    "df = df.append(data,ignore_index=True)"
   ]
  },
  {
   "cell_type": "markdown",
   "metadata": {},
   "source": [
    "# Video 3\n",
    "\n",
    "* Duration - 2min\n",
    "* Size - 57,92,806 bytes (5.8 MB on disk)"
   ]
  },
  {
   "cell_type": "code",
   "execution_count": 8,
   "metadata": {},
   "outputs": [
    {
     "name": "stdout",
     "output_type": "stream",
     "text": [
      "Time taken to get 15 keyframes:  3.4717050349999994\n",
      "_______________________________________________________________________________________________________\n",
      "Time taken to get 10 keyframes:  3.3916905429999957\n",
      "_______________________________________________________________________________________________________\n",
      "Time taken to get 5 keyframes:  3.232525891999998\n",
      "_______________________________________________________________________________________________________\n"
     ]
    }
   ],
   "source": [
    "# Extracting keyframes for video 3 and appending data to the dataframe\n",
    "\n",
    "data = {'Duration':120, 'Size': 5.8}\n",
    "\n",
    "i = 0\n",
    "while (i<len(frame_counts)):\n",
    "    start = timeit.default_timer()\n",
    "    imgs = vd.extract_frames_as_images(no_of_frames = frame_counts[i], file_path= \"./sample_videos/video3.mp4\")\n",
    "    stop = timeit.default_timer()\n",
    "    print('Time taken to get',frame_counts[i],'keyframes: ', stop - start) \n",
    "    df_key = 'Time for ' + str(frame_counts[i])\n",
    "    data[df_key] = stop - start\n",
    "    \n",
    "    # Make folder for saving frames\n",
    "    output_folder_video_image = './key_frames/video3/'+str(frame_counts[i])+'frames'\n",
    "    os.makedirs(output_folder_video_image)\n",
    "    \n",
    "    # Save all frames to disk\n",
    "    for counter,img in enumerate(imgs):\n",
    "        vd.save_frame_to_disk(img, file_path=output_folder_video_image, file_name=\"test_\"+str(counter), file_ext=\".jpeg\")\n",
    "    \n",
    "    print(\"_______________________________________________________________________________________________________\")\n",
    "    i = i+1\n",
    "    \n",
    "df = df.append(data,ignore_index=True)"
   ]
  },
  {
   "cell_type": "markdown",
   "metadata": {},
   "source": [
    "# Video 4\n",
    "\n",
    "* Duration - 3min 47sec\n",
    "* Size - 2,05,54,291 bytes (21 MB on disk)"
   ]
  },
  {
   "cell_type": "code",
   "execution_count": 9,
   "metadata": {},
   "outputs": [
    {
     "name": "stdout",
     "output_type": "stream",
     "text": [
      "Time taken to get 15 keyframes:  13.741036403999985\n",
      "_______________________________________________________________________________________________________\n",
      "Time taken to get 10 keyframes:  12.432472953000001\n",
      "_______________________________________________________________________________________________________\n",
      "Time taken to get 5 keyframes:  12.544120386999992\n",
      "_______________________________________________________________________________________________________\n"
     ]
    }
   ],
   "source": [
    "# Extracting keyframes for video 4 and appending data to the dataframe\n",
    "\n",
    "data = {'Duration':228, 'Size': 21}\n",
    "\n",
    "\n",
    "i = 0\n",
    "while (i<len(frame_counts)):\n",
    "    start = timeit.default_timer()\n",
    "    imgs = vd.extract_frames_as_images(no_of_frames = frame_counts[i], file_path= \"./sample_videos/video4.mp4\")\n",
    "    stop = timeit.default_timer()\n",
    "    print('Time taken to get',frame_counts[i],'keyframes: ', stop - start) \n",
    "    df_key = 'Time for ' + str(frame_counts[i])\n",
    "    data[df_key] = stop - start\n",
    "    \n",
    "    # Make folder for saving frames\n",
    "    output_folder_video_image = './key_frames/video4/'+str(frame_counts[i])+'frames'\n",
    "    os.makedirs(output_folder_video_image)\n",
    "    \n",
    "    # Save all frames to disk\n",
    "    for counter,img in enumerate(imgs):\n",
    "        vd.save_frame_to_disk(img, file_path=output_folder_video_image, file_name=\"test_\"+str(counter), file_ext=\".jpeg\")\n",
    "    print(\"_______________________________________________________________________________________________________\")\n",
    "    i = i+1\n",
    "    \n",
    "df = df.append(data,ignore_index=True)"
   ]
  },
  {
   "cell_type": "markdown",
   "metadata": {},
   "source": [
    "# Video 5\n",
    "\n",
    "* Duration - 4min 51sec\n",
    "* Size - 1,61,58,835 bytes (16.8 MB on disk)"
   ]
  },
  {
   "cell_type": "code",
   "execution_count": 10,
   "metadata": {},
   "outputs": [
    {
     "name": "stdout",
     "output_type": "stream",
     "text": [
      "Time taken to get 15 keyframes:  15.791280942000014\n",
      "_______________________________________________________________________________________________________\n",
      "Time taken to get 10 keyframes:  14.254168378000003\n",
      "_______________________________________________________________________________________________________\n",
      "Time taken to get 5 keyframes:  14.249436499000012\n",
      "_______________________________________________________________________________________________________\n"
     ]
    }
   ],
   "source": [
    "# Extracting keyframes for video 5 and appending data to the dataframe\n",
    "\n",
    "data = {'Duration':291, 'Size': 16.8}\n",
    "\n",
    "\n",
    "i = 0\n",
    "while (i<len(frame_counts)):\n",
    "    start = timeit.default_timer()\n",
    "    imgs = vd.extract_frames_as_images(no_of_frames = frame_counts[i], file_path= \"./sample_videos/video5.mp4\")\n",
    "    stop = timeit.default_timer()\n",
    "    print('Time taken to get',frame_counts[i],'keyframes: ', stop - start) \n",
    "    df_key = 'Time for ' + str(frame_counts[i])\n",
    "    data[df_key] = stop - start\n",
    "    \n",
    "    # Make folder for saving frames\n",
    "    output_folder_video_image = './key_frames/video5/'+str(frame_counts[i])+'frames'\n",
    "    os.makedirs(output_folder_video_image)\n",
    "    \n",
    "    # Save all frames to disk\n",
    "    for counter,img in enumerate(imgs):\n",
    "        vd.save_frame_to_disk(img, file_path=output_folder_video_image, file_name=\"test_\"+str(counter), file_ext=\".jpeg\")\n",
    "    \n",
    "    print(\"_______________________________________________________________________________________________________\")\n",
    "    i = i+1\n",
    "    \n",
    "df = df.append(data,ignore_index=True)"
   ]
  },
  {
   "cell_type": "markdown",
   "metadata": {},
   "source": [
    "# Video 6\n",
    "\n",
    "* Duration - 8min 14sec\n",
    "* Size - 4,53,46,631 bytes (46.4 MB on disk)"
   ]
  },
  {
   "cell_type": "code",
   "execution_count": 11,
   "metadata": {},
   "outputs": [
    {
     "name": "stdout",
     "output_type": "stream",
     "text": [
      "Time taken to get 15 keyframes:  24.55018881700005\n",
      "_______________________________________________________________________________________________________\n",
      "Time taken to get 10 keyframes:  27.70577579999997\n",
      "_______________________________________________________________________________________________________\n",
      "Time taken to get 5 keyframes:  28.455092030999992\n",
      "_______________________________________________________________________________________________________\n"
     ]
    }
   ],
   "source": [
    "# Extracting keyframes for video 6 and appending data to the dataframe\n",
    "\n",
    "data = {'Duration':494, 'Size': 46.4}\n",
    "\n",
    "i = 0\n",
    "while (i<len(frame_counts)):\n",
    "    start = timeit.default_timer()\n",
    "    imgs = vd.extract_frames_as_images(no_of_frames = frame_counts[i], file_path= \"./sample_videos/video6.mp4\")\n",
    "    stop = timeit.default_timer()\n",
    "    print('Time taken to get',frame_counts[i],'keyframes: ', stop - start) \n",
    "    df_key = 'Time for ' + str(frame_counts[i])\n",
    "    data[df_key] = stop - start\n",
    "    \n",
    "    # Make folder for saving frames\n",
    "    output_folder_video_image = './key_frames/video6/'+str(frame_counts[i])+'frames'\n",
    "    os.makedirs(output_folder_video_image)\n",
    "    \n",
    "    # Save all frames to disk\n",
    "    for counter,img in enumerate(imgs):\n",
    "        vd.save_frame_to_disk(img, file_path=output_folder_video_image, file_name=\"test_\"+str(counter), file_ext=\".jpeg\")\n",
    "    \n",
    "    print(\"_______________________________________________________________________________________________________\")\n",
    "    i = i+1\n",
    "    \n",
    "    \n",
    "df = df.append(data,ignore_index=True)"
   ]
  },
  {
   "cell_type": "markdown",
   "metadata": {},
   "source": [
    "# Video 7\n",
    "\n",
    "* Duration - 10min 50sec\n",
    "* Size - 5,15,84,587 bytes (52.4 MB on disk)"
   ]
  },
  {
   "cell_type": "code",
   "execution_count": 12,
   "metadata": {},
   "outputs": [
    {
     "name": "stdout",
     "output_type": "stream",
     "text": [
      "Time taken to get 15 keyframes:  46.99697968200002\n",
      "_______________________________________________________________________________________________________\n",
      "Time taken to get 10 keyframes:  49.77352117299995\n",
      "_______________________________________________________________________________________________________\n",
      "Time taken to get 5 keyframes:  49.550673793000044\n",
      "_______________________________________________________________________________________________________\n"
     ]
    }
   ],
   "source": [
    "# Extracting keyframes for video 7 and appending data to the dataframe\n",
    "\n",
    "data = {'Duration':650, 'Size': 52.4}\n",
    "\n",
    "i = 0\n",
    "while (i<len(frame_counts)):\n",
    "    start = timeit.default_timer()\n",
    "    imgs = vd.extract_frames_as_images(no_of_frames = frame_counts[i], file_path= \"./sample_videos/video7.mp4\")\n",
    "    stop = timeit.default_timer()\n",
    "    print('Time taken to get',frame_counts[i],'keyframes: ', stop - start) \n",
    "    df_key = 'Time for ' + str(frame_counts[i])\n",
    "    data[df_key] = stop - start\n",
    "    \n",
    "    # Make folder for saving frames\n",
    "    output_folder_video_image = './key_frames/video_7/'+str(frame_counts[i])+'frames'\n",
    "    os.makedirs(output_folder_video_image)\n",
    "    \n",
    "    # Save all frames to disk\n",
    "    for counter,img in enumerate(imgs):\n",
    "        vd.save_frame_to_disk(img, file_path=output_folder_video_image, file_name=\"test_\"+str(counter), file_ext=\".jpeg\")\n",
    "    \n",
    "    print(\"_______________________________________________________________________________________________________\")\n",
    "    i = i+1\n",
    "    \n",
    "    \n",
    "df = df.append(data,ignore_index=True)"
   ]
  },
  {
   "cell_type": "markdown",
   "metadata": {},
   "source": [
    "# Result Analysis:  "
   ]
  },
  {
   "cell_type": "code",
   "execution_count": 13,
   "metadata": {},
   "outputs": [
    {
     "name": "stdout",
     "output_type": "stream",
     "text": [
      "_______________________________________________________________________________________________________\n",
      "   Duration  Size  Time for 15  Time for 10  Time for 5\n",
      "0      26.0   7.0     5.593307     4.482808    4.305684\n",
      "1      57.0   3.1     4.305352     3.302035    3.424416\n",
      "2     120.0   5.8     3.471705     3.391691    3.232526\n",
      "3     228.0  21.0    13.741036    12.432473   12.544120\n",
      "4     291.0  16.8    15.791281    14.254168   14.249436\n",
      "5     494.0  46.4    24.550189    27.705776   28.455092\n",
      "6     650.0  52.4    46.996980    49.773521   49.550674\n",
      "_______________________________________________________________________________________________________\n"
     ]
    }
   ],
   "source": [
    "print(\"_______________________________________________________________________________________________________\")\n",
    "print (df)\n",
    "print(\"_______________________________________________________________________________________________________\")"
   ]
  },
  {
   "cell_type": "code",
   "execution_count": 14,
   "metadata": {},
   "outputs": [
    {
     "data": {
      "image/png": "[encoded data removed]",
      "text/plain": [
       "<Figure size 432x288 with 1 Axes>"
      ]
     },
     "metadata": {
      "needs_background": "light"
     },
     "output_type": "display_data"
    }
   ],
   "source": [
    "# plotting duration vs time\n",
    "\n",
    "plt.plot(df['Duration'],df['Time for 15'])\n",
    "plt.plot(df['Duration'],df['Time for 10'])\n",
    "plt.plot(df['Duration'],df['Time for 5'])\n",
    "\n",
    "plt.legend(['Time for 15 frames', 'Time for 10 frames', 'Time for 5 frames'], loc='upper left')\n",
    "plt.xlabel('Duration (seconds)')\n",
    "plt.ylabel('Time taken (seconds)')\n",
    "plt.suptitle('Duration VS Time taken', fontsize=20)\n",
    "\n",
    "plt.show()"
   ]
  },
  {
   "cell_type": "code",
   "execution_count": 15,
   "metadata": {},
   "outputs": [
    {
     "data": {
      "image/png": "[encoded data removed]",
      "text/plain": [
       "<Figure size 432x288 with 1 Axes>"
      ]
     },
     "metadata": {
      "needs_background": "light"
     },
     "output_type": "display_data"
    }
   ],
   "source": [
    "# plotting size vs time\n",
    "\n",
    "plt.plot(df['Size'],df['Time for 15'])\n",
    "plt.plot(df['Size'],df['Time for 10'])\n",
    "plt.plot(df['Size'],df['Time for 5'])\n",
    "\n",
    "plt.legend(['Time for 15 frames', 'Time for 10 frames', 'Time for 5 frames'], loc='upper left')\n",
    "plt.xlabel('Size (MB)')\n",
    "plt.ylabel('Time taken (seconds)')\n",
    "plt.suptitle('Size VS Time taken', fontsize=20)\n",
    "\n",
    "plt.show()"
   ]
  },
  {
   "cell_type": "code",
   "execution_count": null,
   "metadata": {},
   "outputs": [],
   "source": []
  }
 ],
 "metadata": {
  "kernelspec": {
   "display_name": "Python 3",
   "language": "python",
   "name": "python3"
  },
  "language_info": {
   "codemirror_mode": {
    "name": "ipython",
    "version": 3
   },
   "file_extension": ".py",
   "mimetype": "text/x-python",
   "name": "python",
   "nbconvert_exporter": "python",
   "pygments_lexer": "ipython3",
   "version": "3.8.2"
  }
 },
 "nbformat": 4,
 "nbformat_minor": 4
}
